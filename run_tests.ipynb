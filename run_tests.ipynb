{
 "cells": [
  {
   "cell_type": "code",
   "execution_count": 1,
   "metadata": {},
   "outputs": [],
   "source": [
    "from test_grid import *"
   ]
  },
  {
   "cell_type": "code",
   "execution_count": 2,
   "metadata": {},
   "outputs": [],
   "source": [
    "test_game_grid_size()"
   ]
  },
  {
   "cell_type": "code",
   "execution_count": 3,
   "metadata": {},
   "outputs": [
    {
     "name": "stdout",
     "output_type": "stream",
     "text": [
      "[(7, 0), (9, 3), (0, 7), (6, 2), (1, 9), (5, 1), (6, 8), (6, 2), (2, 6), (2, 6), (0, 0), (6, 2), (5, 5), (4, 9), (0, 7), (7, 9), (6, 4), (2, 8), (0, 7), (0, 9)]\n"
     ]
    }
   ],
   "source": [
    "test_get_bombs_positions(game_grid)\n",
    "f = get_bombs_positions(game_grid)\n",
    "print(f)\n"
   ]
  },
  {
   "cell_type": "code",
   "execution_count": 14,
   "metadata": {},
   "outputs": [
    {
     "name": "stdout",
     "output_type": "stream",
     "text": [
      "[[-1, -1, -1, 0, 0, 0, -1, -1, -1, -1], [-1, -1, -1, -1, -1, -1, -1, -1, -1, -1], [-1, -1, 0, -1, 0, -1, -1, -1, 0, -1], [-1, -1, -1, -1, -1, -1, -1, 0, -1, -1], [-1, -1, 0, -1, -1, -1, -1, -1, -1, -1], [-1, 0, 0, 0, -1, -1, -1, -1, -1, -1], [-1, -1, -1, -1, -1, -1, -1, -1, -1, 0], [-1, -1, -1, -1, -1, -1, -1, -1, 0, -1], [-1, -1, -1, -1, 0, -1, -1, 0, -1, 0], [-1, -1, -1, -1, -1, -1, -1, -1, 0, 0]]\n",
      "84\n"
     ]
    },
    {
     "ename": "AssertionError",
     "evalue": "",
     "output_type": "error",
     "traceback": [
      "\u001b[0;31m---------------------------------------------------------------------------\u001b[0m",
      "\u001b[0;31mAssertionError\u001b[0m                            Traceback (most recent call last)",
      "\u001b[1;32m/Users/paolapisoni/Desktop/CW/minesweeper/run_tests.ipynb Cell 4\u001b[0m line \u001b[0;36m2\n\u001b[1;32m      <a href='vscode-notebook-cell:/Users/paolapisoni/Desktop/CW/minesweeper/run_tests.ipynb#W3sZmlsZQ%3D%3D?line=0'>1</a>\u001b[0m \u001b[39mprint\u001b[39m(game_grid_without_bombs)\n\u001b[0;32m----> <a href='vscode-notebook-cell:/Users/paolapisoni/Desktop/CW/minesweeper/run_tests.ipynb#W3sZmlsZQ%3D%3D?line=1'>2</a>\u001b[0m test_place_bombs(game_grid_without_bombs)\n",
      "File \u001b[0;32m~/Desktop/CW/minesweeper/test_grid.py:87\u001b[0m, in \u001b[0;36mtest_place_bombs\u001b[0;34m(game_grid_without_bombs)\u001b[0m\n\u001b[1;32m     85\u001b[0m grid_with_bombs \u001b[39m=\u001b[39m place_bombs(game_grid_without_bombs)\n\u001b[1;32m     86\u001b[0m \u001b[39mprint\u001b[39m(\u001b[39msum\u001b[39m(\u001b[39m1\u001b[39m \u001b[39mfor\u001b[39;00m row \u001b[39min\u001b[39;00m grid_with_bombs \u001b[39mfor\u001b[39;00m element \u001b[39min\u001b[39;00m row \u001b[39mif\u001b[39;00m element \u001b[39m==\u001b[39m \u001b[39m-\u001b[39m\u001b[39m1\u001b[39m))\n\u001b[0;32m---> 87\u001b[0m \u001b[39massert\u001b[39;00m \u001b[39msum\u001b[39m(\u001b[39m1\u001b[39m \u001b[39mfor\u001b[39;00m row \u001b[39min\u001b[39;00m grid_with_bombs \u001b[39mfor\u001b[39;00m element \u001b[39min\u001b[39;00m row \u001b[39mif\u001b[39;00m element \u001b[39m==\u001b[39m \u001b[39m-\u001b[39m\u001b[39m1\u001b[39m) \u001b[39m==\u001b[39m number_of_bombs\n",
      "\u001b[0;31mAssertionError\u001b[0m: "
     ]
    }
   ],
   "source": [
    "print(game_grid_without_bombs)\n",
    "test_place_bombs(game_grid_without_bombs)\n"
   ]
  },
  {
   "cell_type": "code",
   "execution_count": 3,
   "metadata": {},
   "outputs": [],
   "source": [
    "test_get_tile_neighbours(game_grid, 2, 1)"
   ]
  },
  {
   "cell_type": "code",
   "execution_count": 15,
   "metadata": {},
   "outputs": [],
   "source": [
    "test_tile_number_calculate()"
   ]
  },
  {
   "cell_type": "code",
   "execution_count": 2,
   "metadata": {},
   "outputs": [
    {
     "name": "stdout",
     "output_type": "stream",
     "text": [
      "[(1, 4), (1, 5), (1, 6), (2, 4), (2, 6), (3, 4), (3, 5), (3, 6)]\n"
     ]
    }
   ],
   "source": [
    "test_get_neighbours_to_open(game_grid)"
   ]
  }
 ],
 "metadata": {
  "kernelspec": {
   "display_name": "Python 3",
   "language": "python",
   "name": "python3"
  },
  "language_info": {
   "codemirror_mode": {
    "name": "ipython",
    "version": 3
   },
   "file_extension": ".py",
   "mimetype": "text/x-python",
   "name": "python",
   "nbconvert_exporter": "python",
   "pygments_lexer": "ipython3",
   "version": "3.11.5"
  }
 },
 "nbformat": 4,
 "nbformat_minor": 2
}
